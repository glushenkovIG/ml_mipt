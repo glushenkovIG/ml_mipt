{
 "cells": [
  {
   "cell_type": "markdown",
   "metadata": {
    "colab_type": "text",
    "id": "v5Fj-ahf25os"
   },
   "source": [
    "# Домашнее задание №1: Классификация. \n",
    "# Логистическая регрессия и kNN."
   ]
  },
  {
   "cell_type": "markdown",
   "metadata": {},
   "source": [
    "*While the machines are being fixed.*"
   ]
  },
  {
   "cell_type": "markdown",
   "metadata": {},
   "source": [
    "Формат сдачи будет объявлен позднее. Либо это будет проверяющая система, либо telegram-бот. "
   ]
  },
  {
   "cell_type": "markdown",
   "metadata": {
    "colab_type": "text",
    "id": "I6Hq7E5o25ou"
   },
   "source": [
    "<span style=\"color: red; font-size: 14pt\">Дедлайны: \n",
    "* ФИВТ, третий курс - 4 марта 23:59\n",
    "* Открытый курс - 7 марта, 23:59\n",
    "</span>"
   ]
  },
  {
   "cell_type": "markdown",
   "metadata": {
    "colab_type": "text",
    "id": "qZX1Urv425ov"
   },
   "source": [
    "### Часть 1. Небольшой numpy-разогрев. (10%)"
   ]
  },
  {
   "cell_type": "code",
   "execution_count": 374,
   "metadata": {
    "colab": {
     "autoexec": {
      "startup": false,
      "wait_interval": 0
     }
    },
    "colab_type": "code",
    "id": "ABwrGwvF25ow"
   },
   "outputs": [],
   "source": [
    "import numpy as np\n",
    "import pandas as pd"
   ]
  },
  {
   "cell_type": "code",
   "execution_count": 375,
   "metadata": {
    "colab": {
     "autoexec": {
      "startup": false,
      "wait_interval": 0
     }
    },
    "colab_type": "code",
    "id": "GYgIRlqf25o0"
   },
   "outputs": [
    {
     "name": "stdout",
     "output_type": "stream",
     "text": [
      "[[35 18 86 65 32 84 69 80  4 29]\n",
      " [45  6 29 47 39 15 36 38 26 73]\n",
      " [51 82 50 53 42 77 99 44 13 34]\n",
      " [40 77  3 57 37 39 81 60 32 90]\n",
      " [83 96 44 16 66 29 46 99 48 59]\n",
      " [ 2 63 61 96  1 85 66 99 91 15]\n",
      " [44 95 79 66 33  3 46 88 89 45]\n",
      " [87 59 98 91 94 74 36 22 54 85]\n",
      " [ 1 55 38 87 87 23 62 53 78 98]\n",
      " [80 32 64 97 48 65 11 31  7 66]]\n"
     ]
    }
   ],
   "source": [
    "# Создайте случайную матрицу A размерами 10 на 10 из целых чисел от 0 до 100\n",
    "# hint: np.random.randint\n",
    "n = 10\n",
    "k = 100\n",
    "A = np.ones((n, n))\n",
    "for i in range(n):\n",
    "    for j in range(n):\n",
    "        A[i][j] = int(np.random.randint(100))\n",
    "A = A.astype(int)\n",
    "print(A)"
   ]
  },
  {
   "cell_type": "code",
   "execution_count": 376,
   "metadata": {
    "colab": {
     "autoexec": {
      "startup": false,
      "wait_interval": 0
     }
    },
    "colab_type": "code",
    "id": "7aB62Lzk25o2"
   },
   "outputs": [
    {
     "name": "stdout",
     "output_type": "stream",
     "text": [
      "[468 583 552 675 479 494 552 614 442 594]\n"
     ]
    }
   ],
   "source": [
    "# Посчитайте средние значения в матрице по столбцам\n",
    "\n",
    "B = np.zeros(n).astype(int)\n",
    "for i in range(n):\n",
    "    for j in range(n):\n",
    "        B[i] += A[j][i]\n",
    "\n",
    "print(B)"
   ]
  },
  {
   "cell_type": "code",
   "execution_count": 377,
   "metadata": {
    "colab": {
     "autoexec": {
      "startup": false,
      "wait_interval": 0
     }
    },
    "colab_type": "code",
    "id": "MTLnNqV425o5"
   },
   "outputs": [
    {
     "name": "stdout",
     "output_type": "stream",
     "text": [
      "[[35 45 51 40 83  2 44 87  1 80]\n",
      " [18  6 82 77 96 63 95 59 55 32]\n",
      " [86 29 50  3 44 61 79 98 38 64]\n",
      " [65 47 53 57 16 96 66 91 87 97]\n",
      " [32 39 42 37 66  1 33 94 87 48]\n",
      " [84 15 77 39 29 85  3 74 23 65]\n",
      " [69 36 99 81 46 66 46 36 62 11]\n",
      " [80 38 44 60 99 99 88 22 53 31]\n",
      " [ 4 26 13 32 48 91 89 54 78  7]\n",
      " [29 73 34 90 59 15 45 85 98 66]]\n"
     ]
    }
   ],
   "source": [
    "# Транспонируйте матрицу A\n",
    "\n",
    "A_T = A.T\n",
    "print(A_T)"
   ]
  },
  {
   "cell_type": "code",
   "execution_count": 378,
   "metadata": {
    "colab": {
     "autoexec": {
      "startup": false,
      "wait_interval": 0
     }
    },
    "colab_type": "code",
    "id": "WgDUhrYV25o8"
   },
   "outputs": [
    {
     "name": "stdout",
     "output_type": "stream",
     "text": [
      "[[33268 17485 30207 24336 27002 33135 27517 34599 26336 27362]\n",
      " [17485 15602 17577 19654 20321 17662 19874 25905 22732 19628]\n",
      " [30207 17577 35389 30217 31698 32576 30212 36768 29313 26854]\n",
      " [24336 19654 30217 32962 31841 29486 30316 33482 32982 24611]\n",
      " [27002 20321 31698 31841 41196 31055 37324 38444 32461 26938]\n",
      " [33135 17662 32576 29486 31055 46799 38038 35732 34086 26387]\n",
      " [27517 19874 30212 30316 37324 38038 42462 38728 35821 26624]\n",
      " [34599 25905 36768 33482 38444 35732 38728 55168 40793 40335]\n",
      " [26336 22732 29313 32982 32461 34086 35821 40793 42478 27721]\n",
      " [27362 19628 26854 24611 26938 26387 26624 40335 27721 32945]]\n"
     ]
    }
   ],
   "source": [
    "# Перемножьте поэлементно матрицу A и транспонированную матрицу A \n",
    "\n",
    "print(A @ A.T)"
   ]
  },
  {
   "cell_type": "code",
   "execution_count": 379,
   "metadata": {
    "colab": {
     "autoexec": {
      "startup": false,
      "wait_interval": 0
     }
    },
    "colab_type": "code",
    "id": "xwgLyFDD25o9"
   },
   "outputs": [
    {
     "name": "stdout",
     "output_type": "stream",
     "text": [
      "[[24165 33582 29858 34955 21572 28539 30479 31595 23962 26462]\n",
      " [19227 20960 20494 24664 17746 18605 18222 20915 13249 21701]\n",
      " [24702 32278 30771 35871 21906 25256 30046 35780 26144 29281]\n",
      " [26463 27701 29256 36283 24416 22626 23582 30136 22925 32602]\n",
      " [31050 29812 35779 38935 31057 29206 29090 33188 23316 35763]\n",
      " [22917 35855 29900 42709 28907 27400 34284 32786 31717 37998]\n",
      " [28598 32176 30842 39242 32747 26612 32636 30226 23745 40071]\n",
      " [32640 41057 35508 44738 30880 36807 41139 44755 26513 39400]\n",
      " [30452 36407 28401 38430 31275 23978 29052 33746 26131 40051]\n",
      " [23966 28423 25773 33191 20372 29606 30145 31506 16968 27541]]\n"
     ]
    }
   ],
   "source": [
    "# Посчитайте dot product (результат матричного умножения) матрицы A на саму себя и запишите в матрицу B\n",
    "# https://en.wikipedia.org/wiki/Dot_product\n",
    "\n",
    "B = A @ A\n",
    "print(B)"
   ]
  },
  {
   "cell_type": "markdown",
   "metadata": {
    "colab_type": "text",
    "id": "9S8tqIMG25pb"
   },
   "source": [
    "### Часть 2. Логистическая регрессия и kNN."
   ]
  },
  {
   "cell_type": "markdown",
   "metadata": {
    "colab_type": "text",
    "id": "T2docs4225pb"
   },
   "source": [
    "Будем работать с подвыборкой из [данных о типе лесного покрытия из репозитория UCI](http://archive.ics.uci.edu/ml/datasets/Covertype). Доступно 7 различных классов. Каждый объект описывается 54 признаками, 40 из которых являются бинарными. Описание данных доступно по ссылке, а так же в файле `covtype.info.txt`."
   ]
  },
  {
   "cell_type": "code",
   "execution_count": 380,
   "metadata": {
    "colab": {
     "autoexec": {
      "startup": false,
      "wait_interval": 0
     }
    },
    "colab_type": "code",
    "id": "rvPrVRvK25pc"
   },
   "outputs": [
    {
     "name": "stdout",
     "output_type": "stream",
     "text": [
      "         0    1   2    3    4     5    6    7    8     9 ...  45  46  47  48  \\\n",
      "0     2683  333  35   30   26  2743  121  173  179  6572 ...   0   0   0   0   \n",
      "1     2915   90   8  216   11  4433  232  228  129  4019 ...   0   0   0   0   \n",
      "2     2941  162   7  698   76  2783  227  242  148  1784 ...   0   0   0   0   \n",
      "3     3096   60  17  170    3  3303  231  202   99  5370 ...   0   0   0   0   \n",
      "4     2999   66   8  488   37  1532  228  225  131  2290 ...   0   0   0   0   \n",
      "5     2878    7  11  417   47  2355  207  218  148  2571 ...   0   0   0   0   \n",
      "6     2995  144   8  324   77  2523  232  239  138  1711 ...   1   0   0   0   \n",
      "7     3158  143  28  480   81  1061  247  221   84  2234 ...   0   0   0   0   \n",
      "8     2911  315   8   67    4  3522  198  233  175  2407 ...   0   0   0   0   \n",
      "9     2968  212  10   42    3  5413  211  250  173  2213 ...   0   0   0   0   \n",
      "10    3274  330   9  537  100   616  198  229  170   458 ...   0   0   0   0   \n",
      "11    3021  147  11   42    0  5196  235  239  134  1818 ...   0   0   0   0   \n",
      "12    3355  246   3  283   24   934  213  241  166  2042 ...   1   0   0   0   \n",
      "13    3130  338  20  616  325  1209  172  207  171  1144 ...   0   1   0   0   \n",
      "14    3017  249   7    0    0  2273  206  245  177  1090 ...   0   0   0   0   \n",
      "15    2873   18  11  256   31  2462  211  216  141  1092 ...   0   0   0   0   \n",
      "16    3074  350  22  201   53  3586  176  198  157  2069 ...   0   0   0   0   \n",
      "17    2928   15  14  612  133  2955  207  211  139  1341 ...   1   0   0   0   \n",
      "18    2930  347  16   95   13   731  189  213  162  1919 ...   0   0   0   0   \n",
      "19    2992  327  12   90   17  2407  191  227  175  1559 ...   0   1   0   0   \n",
      "20    3031  142   8  437   -2  6584  232  238  138  3587 ...   0   0   0   0   \n",
      "21    3159  348  14  192   36  3332  193  216  161  1626 ...   0   0   0   0   \n",
      "22    2994    0   2  607   58  4284  216  235  156  4801 ...   0   0   0   0   \n",
      "23    2853  222  18  404  215  1590  196  254  191  1409 ...   0   0   0   0   \n",
      "24    3434  205  12  459   41  3143  213  251  171   256 ...   0   0   0   0   \n",
      "25    3379   90   3  552   40  1560  224  234  146  2391 ...   1   0   0   0   \n",
      "26    2360   47  30  270   86   270  214  161   62   960 ...   0   0   0   0   \n",
      "27    2716  354   2  218   49  1194  215  235  157  3035 ...   0   0   0   0   \n",
      "28    2705  105  18   67   15  1252  247  215   90   782 ...   0   0   0   0   \n",
      "29    2576   36  13    0    0   685  219  211  125  1531 ...   0   1   0   0   \n",
      "...    ...  ...  ..  ...  ...   ...  ...  ...  ...   ... ...  ..  ..  ..  ..   \n",
      "9970  2519   40   4  175    1   679  220  231  148  5512 ...   0   0   0   0   \n",
      "9971  2644  199  19   42   14  3194  209  253  171  2039 ...   0   0   0   0   \n",
      "9972  3004  167   4  408   72  4761  223  241  153  1699 ...   0   0   0   0   \n",
      "9973  3193  190  14  180   17   646  219  250  161  1224 ...   0   0   0   0   \n",
      "9974  2866   82   3  553   17  2701  224  233  144  2859 ...   0   0   0   0   \n",
      "9975  3316  133  22  531  168  3553  249  223   90   598 ...   0   0   0   0   \n",
      "9976  3215  110  17  570   77   600  247  219   95  1981 ...   0   0   0   0   \n",
      "9977  3016   20   7   42    0  1190  215  225  147  1290 ...   0   0   0   0   \n",
      "9978  3175   42  11  391   42  3017  222  215  127  2759 ...   1   0   0   0   \n",
      "9979  3140  338  17  150    1  2465  182  214  171   492 ...   0   1   0   0   \n",
      "9980  2430   85  16  190   72   671  242  210   94  1445 ...   0   0   0   0   \n",
      "9981  3212   35  18   30    2  2906  215  197  112  2520 ...   0   0   0   0   \n",
      "9982  2837   51   9  134   -1  1597  225  220  128  2451 ...   0   0   0   0   \n",
      "9983  2855  345  14  180   60  1615  192  217  163  1825 ...   0   0   0   0   \n",
      "9984  3108  198   9   42    3  1692  217  248  165  2363 ...   0   0   0   0   \n",
      "9985  2567  195  19   30  -15  2842  213  252  166  1071 ...   0   0   0   0   \n",
      "9986  2891  350  11  335    7  1699  201  222  160  2938 ...   1   0   0   0   \n",
      "9987  3497  358   9  541  220  1290  207  224  155  1812 ...   0   0   0   0   \n",
      "9988  2722   38  15  443   65   484  218  205  118   899 ...   0   0   0   0   \n",
      "9989  3017   43  12  426   15  1034  222  213  124  1805 ...   1   0   0   0   \n",
      "9990  3352  353  20  924  149  2087  182  202  155   553 ...   0   0   0   0   \n",
      "9991  2873   33  17   85   23  3341  214  199  116  2448 ...   0   0   0   0   \n",
      "9992  3079  128   9  124    8  5051  235  235  131  2022 ...   0   0   0   0   \n",
      "9993  3198  324  12  180   14   256  189  227  177  1165 ...   0   0   0   0   \n",
      "9994  3139   28   4  404   -2  3258  218  232  150  4592 ...   0   0   0   0   \n",
      "9995  3088  217  21  295   53  2912  194  254  190  1590 ...   0   0   0   0   \n",
      "9996  2569  129  10    0    0  1273  237  234  127  5094 ...   0   0   0   0   \n",
      "9997  2693   21  11   30    6  2316  212  216  139  2110 ...   0   0   0   0   \n",
      "9998  2536   42  11  277   19   323  222  216  128  2844 ...   0   0   0   0   \n",
      "9999  3109  261  10  234   -8  2451  195  246  189  1853 ...   0   0   0   0   \n",
      "\n",
      "      49  50  51  52  53  54  \n",
      "0      0   0   0   0   0   2  \n",
      "1      0   0   0   0   0   1  \n",
      "2      0   0   0   0   0   2  \n",
      "3      0   0   0   0   0   1  \n",
      "4      0   0   0   0   0   2  \n",
      "5      0   0   0   0   0   2  \n",
      "6      0   0   0   0   0   2  \n",
      "7      0   0   0   0   0   1  \n",
      "8      0   0   0   0   0   2  \n",
      "9      0   0   0   0   0   1  \n",
      "10     0   0   0   0   0   1  \n",
      "11     0   0   0   0   0   1  \n",
      "12     0   0   0   0   0   7  \n",
      "13     0   0   0   0   0   1  \n",
      "14     0   0   0   0   0   1  \n",
      "15     0   0   0   0   0   1  \n",
      "16     0   0   0   0   0   1  \n",
      "17     0   0   0   0   0   2  \n",
      "18     0   0   0   0   0   1  \n",
      "19     0   0   0   0   0   1  \n",
      "20     0   0   0   0   0   1  \n",
      "21     0   0   0   0   0   2  \n",
      "22     0   0   0   0   0   2  \n",
      "23     0   0   0   0   0   2  \n",
      "24     0   0   1   0   0   1  \n",
      "25     0   0   0   0   0   7  \n",
      "26     0   0   0   0   0   3  \n",
      "27     0   0   0   0   0   2  \n",
      "28     0   0   0   0   0   2  \n",
      "29     0   0   0   0   0   1  \n",
      "...   ..  ..  ..  ..  ..  ..  \n",
      "9970   0   0   0   0   0   5  \n",
      "9971   0   0   0   0   0   2  \n",
      "9972   0   0   0   0   0   2  \n",
      "9973   0   0   0   0   0   1  \n",
      "9974   0   0   0   0   0   2  \n",
      "9975   0   0   0   1   0   1  \n",
      "9976   0   0   0   0   0   2  \n",
      "9977   0   0   0   0   0   2  \n",
      "9978   0   0   0   0   0   1  \n",
      "9979   0   0   0   0   0   1  \n",
      "9980   0   0   0   0   0   6  \n",
      "9981   0   0   0   0   0   1  \n",
      "9982   0   0   0   0   0   2  \n",
      "9983   0   0   0   0   0   6  \n",
      "9984   0   0   0   0   0   1  \n",
      "9985   0   0   0   0   0   6  \n",
      "9986   0   0   0   0   0   1  \n",
      "9987   0   0   0   0   1   7  \n",
      "9988   0   0   0   0   0   2  \n",
      "9989   0   0   0   0   0   1  \n",
      "9990   0   0   0   0   1   7  \n",
      "9991   0   0   0   0   0   1  \n",
      "9992   0   0   0   0   0   2  \n",
      "9993   0   0   0   0   0   1  \n",
      "9994   0   0   0   0   0   1  \n",
      "9995   0   0   0   0   0   2  \n",
      "9996   0   0   0   0   0   2  \n",
      "9997   0   0   0   0   0   2  \n",
      "9998   0   0   0   0   0   2  \n",
      "9999   0   0   0   0   0   2  \n",
      "\n",
      "[10000 rows x 55 columns]\n"
     ]
    }
   ],
   "source": [
    "all_data = pd.read_csv('forest_dataset.csv')\n",
    "print(all_data)"
   ]
  },
  {
   "cell_type": "markdown",
   "metadata": {
    "colab_type": "text",
    "id": "DrX0W5si25pe"
   },
   "source": [
    "Выделите 20% данных в `delayed_data` в качестве выборки, на которой будет производиться финальное сравнение моделей, в `all_data` поместите оставшиеся 80%."
   ]
  },
  {
   "cell_type": "code",
   "execution_count": 381,
   "metadata": {
    "colab": {
     "autoexec": {
      "startup": false,
      "wait_interval": 0
     }
    },
    "colab_type": "code",
    "id": "Deu3A-yc25pf"
   },
   "outputs": [
    {
     "name": "stdout",
     "output_type": "stream",
     "text": [
      "test_data_size = 1999, train_data_size = 8001\n"
     ]
    }
   ],
   "source": [
    "k_train = 0.8\n",
    "k_test = 1 - k_train\n",
    "delayed_data_size = int(k_test * len(all_data))\n",
    "\n",
    "\n",
    "delayed_data = all_data[:delayed_data_size]\n",
    "all_data = all_data[delayed_data_size:]\n",
    "print(f\"test_data_size = %s, train_data_size = %s\"%(len(delayed_data), len(all_data)))"
   ]
  },
  {
   "cell_type": "markdown",
   "metadata": {
    "colab_type": "text",
    "id": "itCWxHEY25pg"
   },
   "source": [
    "Выделим значения метки класса в переменную `labels`, признаковые описания в переменную `feature_matrix`. Так как данные числовые и не имеют пропусков, переведем их в `numpy`-формат с помощью метода `.values`."
   ]
  },
  {
   "cell_type": "code",
   "execution_count": 388,
   "metadata": {
    "colab": {
     "autoexec": {
      "startup": false,
      "wait_interval": 0
     }
    },
    "colab_type": "code",
    "id": "f_YIUOuV25ph"
   },
   "outputs": [
    {
     "name": "stderr",
     "output_type": "stream",
     "text": [
      "/usr/local/lib/python3.7/site-packages/sklearn/utils/validation.py:590: DataConversionWarning: Data with input dtype int64 was converted to float64 by the scale function.\n",
      "  warnings.warn(msg, DataConversionWarning)\n",
      "/usr/local/lib/python3.7/site-packages/sklearn/utils/validation.py:590: DataConversionWarning: Data with input dtype int64 was converted to float64 by the scale function.\n",
      "  warnings.warn(msg, DataConversionWarning)\n"
     ]
    }
   ],
   "source": [
    "from sklearn import preprocessing\n",
    "Scaler = lambda x: preprocessing.scale(x)\n",
    "\n",
    "labels = all_data[all_data.columns[-1]].values\n",
    "feature_matrix = Scaler(all_data[all_data.columns[:-1]].values)\n",
    "\n",
    "\n",
    "private_labels = delayed_data[delayed_data.columns[-1]].values\n",
    "private_matrix = Scaler(delayed_data[delayed_data.columns[:-1]].values)"
   ]
  },
  {
   "cell_type": "markdown",
   "metadata": {
    "colab_type": "text",
    "id": "dKCiU0wz25pj"
   },
   "source": [
    "#### 2.1 Двуклассовая классификация (10%)"
   ]
  },
  {
   "cell_type": "markdown",
   "metadata": {
    "colab_type": "text",
    "id": "LYDttiOJ25pj"
   },
   "source": [
    "Для начала будем работать только с двумя типами лесного покрытия. Обучите линейный классификатор для разделения двух классов. Данные разделите на train и test с помощью `train_test_split`."
   ]
  },
  {
   "cell_type": "code",
   "execution_count": 389,
   "metadata": {
    "colab": {
     "autoexec": {
      "startup": false,
      "wait_interval": 0
     }
    },
    "colab_type": "code",
    "id": "Q030jzyY25pl"
   },
   "outputs": [],
   "source": [
    "from sklearn.model_selection import train_test_split\n",
    "\n",
    "from sklearn.linear_model import LogisticRegression\n",
    "from sklearn.metrics import f1_score, accuracy_score"
   ]
  },
  {
   "cell_type": "code",
   "execution_count": 390,
   "metadata": {
    "colab": {
     "autoexec": {
      "startup": false,
      "wait_interval": 0
     }
    },
    "colab_type": "code",
    "id": "taWX6ME925pn"
   },
   "outputs": [],
   "source": [
    "two_class_labels_indices = (labels == 1) + (labels == 2)\n",
    "\n",
    "two_class_feature_matrix = feature_matrix[two_class_labels_indices]\n",
    "two_class_labels = labels[two_class_labels_indices]"
   ]
  },
  {
   "cell_type": "code",
   "execution_count": 391,
   "metadata": {
    "colab": {
     "autoexec": {
      "startup": false,
      "wait_interval": 0
     }
    },
    "colab_type": "code",
    "id": "zoQPXD_k25po"
   },
   "outputs": [
    {
     "name": "stdout",
     "output_type": "stream",
     "text": [
      "4789\n"
     ]
    }
   ],
   "source": [
    "train_feature_matrix, test_feature_matrix, train_labels, test_labels = train_test_split(two_class_feature_matrix, two_class_labels, test_size=0.3)\n",
    "print(len(train_feature_matrix))"
   ]
  },
  {
   "cell_type": "markdown",
   "metadata": {
    "colab_type": "text",
    "id": "A8iDa9Je25pq"
   },
   "source": [
    "Обучите логистическую регрессию. Оцените качество классификации на отложенной выборке с помощью `accuracy` и `f1_score` ([Wikipedia](https://en.wikipedia.org/wiki/F1_score))."
   ]
  },
  {
   "cell_type": "code",
   "execution_count": 392,
   "metadata": {
    "colab": {
     "autoexec": {
      "startup": false,
      "wait_interval": 0
     }
    },
    "colab_type": "code",
    "id": "9CKtjwv_25pr"
   },
   "outputs": [],
   "source": [
    "lr_clf = LogisticRegression(solver=\"newton-cg\")"
   ]
  },
  {
   "cell_type": "code",
   "execution_count": 393,
   "metadata": {
    "colab": {
     "autoexec": {
      "startup": false,
      "wait_interval": 0
     }
    },
    "colab_type": "code",
    "id": "VF2CeR7W25pt"
   },
   "outputs": [
    {
     "name": "stdout",
     "output_type": "stream",
     "text": [
      "0.7778860204578666\n",
      "0.6688344172086043\n"
     ]
    }
   ],
   "source": [
    "lr_clf.fit(train_feature_matrix, train_labels)\n",
    "print(accuracy_score(test_labels, lr_clf.predict(test_feature_matrix)))\n",
    "print(accuracy_score(private_labels, lr_clf.predict(private_matrix)))"
   ]
  },
  {
   "cell_type": "markdown",
   "metadata": {
    "colab_type": "text",
    "id": "9MKHZ2JC25pv"
   },
   "source": [
    "#### 2.2 Многоклассовая классификация: логистическая регрессия (40%)"
   ]
  },
  {
   "cell_type": "markdown",
   "metadata": {
    "colab_type": "text",
    "id": "P1mWe4kJ25pv"
   },
   "source": [
    "**Комментарий:**\n",
    "\n",
    "*Логистическая регрессия позволяет решать и задачу многоклассовой классификации. Класс ``LogisticRegression`` позвляет это делать двумя способами:* \n",
    "- *1. Стандартный One vs Rest (т.е. каждый класс отделяется от всех других). Параметр `multi_class='ovr'`.*\n",
    "- *2. Используюя кросс-энтропию (оценивается сразу вектор вероятностей принадлежности классам). Параметр `multi_class='multinomial'`.*\n",
    "\n",
    "*По умолчанию будем использовать второй способ.*\n"
   ]
  },
  {
   "cell_type": "markdown",
   "metadata": {
    "colab_type": "text",
    "id": "BGn7U05I25pw"
   },
   "source": [
    "Теперь будем работать со всеми 7 типами покрытия (данные уже находятся в переменных `feature_matrix` и `labels`, если Вы их не переопределили). Разделите выборку на обучающую и тестовую с помощью метода `train_test_split`, используйте значения параметров `test_size=0.2`, `random_state=42`. Обучите логистическую регрессию  на данном датасете."
   ]
  },
  {
   "cell_type": "code",
   "execution_count": 394,
   "metadata": {
    "colab": {
     "autoexec": {
      "startup": false,
      "wait_interval": 0
     }
    },
    "colab_type": "code",
    "id": "xqzEKcdD25px"
   },
   "outputs": [
    {
     "data": {
      "text/plain": [
       "LogisticRegression(C=1.0, class_weight=None, dual=False, fit_intercept=True,\n",
       "          intercept_scaling=1, max_iter=3000, multi_class='multinomial',\n",
       "          n_jobs=None, penalty='l2', random_state=None, solver='saga',\n",
       "          tol=0.01, verbose=0, warm_start=False)"
      ]
     },
     "execution_count": 394,
     "metadata": {},
     "output_type": "execute_result"
    }
   ],
   "source": [
    "lr_clf = LogisticRegression(solver=\"saga\", multi_class=\"multinomial\", max_iter=3000, tol=0.01)\n",
    "\n",
    "train_feature_matrix, test_feature_matrix, train_labels, test_labels = train_test_split(feature_matrix, labels, test_size=0.2, random_state=42)\n",
    "lr_clf.fit(train_feature_matrix, train_labels)"
   ]
  },
  {
   "cell_type": "markdown",
   "metadata": {
    "colab_type": "text",
    "id": "5QqTntPq25p0"
   },
   "source": [
    "С помощью 5-кратной кросс-валидации (`GridSearchCV`) подберите оптимальное значение параметров `С` и `penalty`. Для параметра `C` используйте набор значений `np.linspace(0.01, 1, 10)`, а для `penalty` - `['l1', 'l2']`. Критерий качества `scoring = 'accuracy'`."
   ]
  },
  {
   "cell_type": "code",
   "execution_count": 395,
   "metadata": {
    "colab": {
     "autoexec": {
      "startup": false,
      "wait_interval": 0
     }
    },
    "colab_type": "code",
    "id": "j-M-porJ25p0"
   },
   "outputs": [
    {
     "data": {
      "text/plain": [
       "GridSearchCV(cv=5, error_score='raise-deprecating',\n",
       "       estimator=LogisticRegression(C=1.0, class_weight=None, dual=False, fit_intercept=True,\n",
       "          intercept_scaling=1, max_iter=3000, multi_class='multinomial',\n",
       "          n_jobs=None, penalty='l2', random_state=None, solver='saga',\n",
       "          tol=0.01, verbose=0, warm_start=False),\n",
       "       fit_params=None, iid='warn', n_jobs=None,\n",
       "       param_grid={'penalty': ['l1', 'l2'], 'C': array([0.01, 0.12, 0.23, 0.34, 0.45, 0.56, 0.67, 0.78, 0.89, 1.  ])},\n",
       "       pre_dispatch='2*n_jobs', refit=True, return_train_score='warn',\n",
       "       scoring='accuracy', verbose=0)"
      ]
     },
     "execution_count": 395,
     "metadata": {},
     "output_type": "execute_result"
    }
   ],
   "source": [
    "from sklearn.model_selection import GridSearchCV\n",
    "parameters = {'penalty':['l1', 'l2'], 'C':np.linspace(0.01, 1, 10)}\n",
    "clf = GridSearchCV(lr_clf, parameters, cv=5, scoring='accuracy')\n",
    "clf.fit(train_feature_matrix, train_labels)\n",
    "#print(accuracy_score(test_labels, clf.predict(test_feature_matrix)))\n"
   ]
  },
  {
   "cell_type": "markdown",
   "metadata": {
    "colab_type": "text",
    "id": "rzsRzpiv25p2"
   },
   "source": [
    "Постройте графики средних значений критерия качества `accuracy` для типов регуляризации `l1` и `l2` в зависимости от коэффициента регуляризации `C`."
   ]
  },
  {
   "cell_type": "code",
   "execution_count": 396,
   "metadata": {
    "colab": {
     "autoexec": {
      "startup": false,
      "wait_interval": 0
     }
    },
    "colab_type": "code",
    "id": "nYOrtHpy25p3",
    "scrolled": true
   },
   "outputs": [
    {
     "name": "stdout",
     "output_type": "stream",
     "text": [
      "0.7195502810743285\n",
      "0.7188594297148574\n"
     ]
    },
    {
     "data": {
      "image/png": "[encoded data removed]",
      "text/plain": [
       "<Figure size 432x288 with 1 Axes>"
      ]
     },
     "metadata": {
      "needs_background": "light"
     },
     "output_type": "display_data"
    }
   ],
   "source": [
    "print(accuracy_score(test_labels, clf.predict(test_feature_matrix)))\n",
    "\n",
    "\n",
    "from matplotlib import pyplot as plt\n",
    "\n",
    "plt.title(\"L1 and L2 norm plot\")\n",
    "plt.xlabel(\"Regularisation parametr C\")\n",
    "plt.ylabel(\"Accuracy\")\n",
    "plt.plot([elem[\"C\"] for elem in clf.cv_results_[\"params\"][::2]], clf.cv_results_[\"mean_test_score\"][::2])\n",
    "plt.plot([elem[\"C\"] for elem in clf.cv_results_[\"params\"][1::2]], clf.cv_results_[\"mean_test_score\"][1::2])\n",
    "plt.show()"
   ]
  },
  {
   "cell_type": "markdown",
   "metadata": {
    "colab_type": "text",
    "id": "IQraNf0M25p5"
   },
   "source": [
    "Проанализируйте полученные графики. Чему равны найденные оптимальные значения параметров `C` и `penalty`?"
   ]
  },
  {
   "cell_type": "code",
   "execution_count": 398,
   "metadata": {
    "colab": {
     "autoexec": {
      "startup": false,
      "wait_interval": 0
     }
    },
    "colab_type": "code",
    "id": "BkT1RWJj25p7"
   },
   "outputs": [
    {
     "name": "stdout",
     "output_type": "stream",
     "text": [
      "Optimum value = {'C': 0.12, 'penalty': 'l1'}\n"
     ]
    }
   ],
   "source": [
    "print(f\"Optimum value = %s\"%(clf.cv_results_[\"params\"][np.argmax(clf.cv_results_[\"mean_test_score\"])]))"
   ]
  },
  {
   "cell_type": "markdown",
   "metadata": {
    "colab_type": "text",
    "id": "uIX7uVYk25p9"
   },
   "source": [
    "Используя найденные оптимальные значения `C` и `penalty`, обучите логистическую регрессию на обучающей выборке (train) и вычислите вероятности принадлежности к классам для тестовой (test)  выборки (`best_lr_clf.predict_proba`)."
   ]
  },
  {
   "cell_type": "code",
   "execution_count": 399,
   "metadata": {
    "colab": {
     "autoexec": {
      "startup": false,
      "wait_interval": 0
     }
    },
    "colab_type": "code",
    "id": "1rDNazlC25p9"
   },
   "outputs": [
    {
     "name": "stderr",
     "output_type": "stream",
     "text": [
      "/usr/local/lib/python3.7/site-packages/sklearn/linear_model/logistic.py:432: FutureWarning: Default solver will be changed to 'lbfgs' in 0.22. Specify a solver to silence this warning.\n",
      "  FutureWarning)\n",
      "/usr/local/lib/python3.7/site-packages/sklearn/linear_model/logistic.py:459: FutureWarning: Default multi_class will be changed to 'auto' in 0.22. Specify the multi_class option to silence this warning.\n",
      "  \"this warning.\", FutureWarning)\n"
     ]
    },
    {
     "name": "stdout",
     "output_type": "stream",
     "text": [
      "0.7138569284642321\n"
     ]
    }
   ],
   "source": [
    "best_lr_clf = LogisticRegression(C=0.12, penalty=\"l1\")\n",
    "best_lr_clf.fit(train_feature_matrix, train_labels)\n",
    "best_lr_clf.predict_proba(test_feature_matrix)\n",
    "print(accuracy_score(private_labels, best_lr_clf.predict(private_matrix)))\n",
    "\n"
   ]
  },
  {
   "cell_type": "markdown",
   "metadata": {
    "colab_type": "text",
    "id": "Ck7T2dGQ25p_"
   },
   "source": [
    "Для полученной матрицы вычислите усредненные по всем объектам из тестовой выборки значения вероятностей принадлежности к классам. Сравните ее оценкой вероятности принадлежности к классу на основе частот меток классов в обучающей выборке."
   ]
  },
  {
   "cell_type": "code",
   "execution_count": 400,
   "metadata": {
    "colab": {
     "autoexec": {
      "startup": false,
      "wait_interval": 0
     }
    },
    "colab_type": "code",
    "id": "JOf0BNix25qA"
   },
   "outputs": [
    {
     "name": "stdout",
     "output_type": "stream",
     "text": [
      "0.36665215867814066\t0.3791380387257964\n",
      "0.48344234924099977\t0.4772017489069332\n",
      "0.0608449238583412\t0.05434103685196752\n",
      "0.0056824785878491395\t0.006870705808869456\n",
      "0.018252130918217476\t0.012492192379762648\n",
      "0.03022624192547574\t0.03497813866333541\n",
      "0.03489971679097607\t0.03497813866333541\n"
     ]
    }
   ],
   "source": [
    "for i in range(7):\n",
    "    print(np.average(best_lr_clf.predict_proba(test_feature_matrix).T[i]), end=\"\\t\")\n",
    "    print(len(test_labels[test_labels == i + 1]) / len(test_labels))"
   ]
  },
  {
   "cell_type": "markdown",
   "metadata": {
    "colab_type": "text",
    "id": "VYogShkD25qD"
   },
   "source": [
    "#### 2.3 Многоклассовая классификация: kNN (30%)."
   ]
  },
  {
   "cell_type": "markdown",
   "metadata": {
    "colab_type": "text",
    "id": "BHVNCaJ325qD"
   },
   "source": [
    "Вспомним первое занятие. Обучите на том же датасете `KNeighborsClassifier` из `sklearn`."
   ]
  },
  {
   "cell_type": "code",
   "execution_count": 401,
   "metadata": {
    "colab": {
     "autoexec": {
      "startup": false,
      "wait_interval": 0
     }
    },
    "colab_type": "code",
    "id": "o4CMnnOY25qD"
   },
   "outputs": [
    {
     "name": "stdout",
     "output_type": "stream",
     "text": [
      "0.7189256714553404\n",
      "0.7198599299649825\n"
     ]
    }
   ],
   "source": [
    "from sklearn.neighbors import KNeighborsClassifier\n",
    "\n",
    "k_clf = KNeighborsClassifier()\n",
    "k_clf.fit(train_feature_matrix, train_labels)\n",
    "\n",
    "print(accuracy_score(test_labels, k_clf.predict(test_feature_matrix)))\n",
    "print(accuracy_score(private_labels, k_clf.predict(private_matrix)))"
   ]
  },
  {
   "cell_type": "markdown",
   "metadata": {
    "colab_type": "text",
    "id": "Yl_foM3u25qF"
   },
   "source": [
    "Попробуйте использовать различные стратегии вычисления весов: `[‘uniform’, ‘distance’]`. Выберите одно из них самостоятельно. Чем обоснован Ваш выбор?"
   ]
  },
  {
   "cell_type": "markdown",
   "metadata": {
    "colab_type": "text",
    "id": "8WzoRJZd25qF"
   },
   "source": [
    "Переберите по сетке от `1` до `10` параметр числа соседей. Покажите на графике, как менялись значения критерия качества `accuracy` при изменении числа соседей."
   ]
  },
  {
   "cell_type": "code",
   "execution_count": 408,
   "metadata": {
    "colab": {
     "autoexec": {
      "startup": false,
      "wait_interval": 0
     }
    },
    "colab_type": "code",
    "id": "4lMSy-6f25qG"
   },
   "outputs": [
    {
     "name": "stdout",
     "output_type": "stream",
     "text": [
      "Accuracy for uniform weights = \t\t 0.7189256714553404\n",
      "Accuracy for distance weights = \t 0.7364147407870081\n",
      "7\n"
     ]
    },
    {
     "data": {
      "image/png": "[encoded data removed]",
      "text/plain": [
       "<Figure size 432x288 with 1 Axes>"
      ]
     },
     "metadata": {
      "needs_background": "light"
     },
     "output_type": "display_data"
    }
   ],
   "source": [
    "k_clf = KNeighborsClassifier(weights=\"uniform\")\n",
    "k_clf.fit(train_feature_matrix, train_labels)\n",
    "print(\"Accuracy for uniform weights = \\t\\t %s\"%(accuracy_score(test_labels, k_clf.predict(test_feature_matrix))))\n",
    "\n",
    "k_clf = KNeighborsClassifier(weights=\"distance\")\n",
    "k_clf.fit(train_feature_matrix, train_labels)\n",
    "print(\"Accuracy for distance weights = \\t %s\"%(accuracy_score(test_labels, k_clf.predict(test_feature_matrix))))\n",
    "\n",
    "\n",
    "Acc = []\n",
    "for i in range(1, 11):\n",
    "    k_clf = KNeighborsClassifier(n_neighbors=i, weights=\"distance\")\n",
    "    k_clf.fit(train_feature_matrix, train_labels)\n",
    "    Acc.append(accuracy_score(test_labels, k_clf.predict(test_feature_matrix)))\n",
    "    \n",
    "from matplotlib import pyplot as plt\n",
    "plt.plot([i for i in range(1, 11)], Acc)\n",
    "print(np.argmax(Acc))\n",
    "plt.show()"
   ]
  },
  {
   "cell_type": "markdown",
   "metadata": {
    "colab_type": "text",
    "id": "aBmiDbvV25qI"
   },
   "source": [
    "Используя найденное оптимальное число соседей, вычислите вероятности принадлежности к классам для тестовой выборки (`.predict_proba`)."
   ]
  },
  {
   "cell_type": "code",
   "execution_count": 410,
   "metadata": {
    "colab": {
     "autoexec": {
      "startup": false,
      "wait_interval": 0
     }
    },
    "colab_type": "code",
    "id": "ig_vS8O925qI"
   },
   "outputs": [
    {
     "name": "stdout",
     "output_type": "stream",
     "text": [
      "0.7476577139287945\n"
     ]
    },
    {
     "data": {
      "text/plain": [
       "array([[0.23586105, 0.65329904, 0.        , ..., 0.11083991, 0.        ,\n",
       "        0.        ],\n",
       "       [0.        , 0.35084326, 0.        , ..., 0.64915674, 0.        ,\n",
       "        0.        ],\n",
       "       [0.4033152 , 0.5966848 , 0.        , ..., 0.        , 0.        ,\n",
       "        0.        ],\n",
       "       ...,\n",
       "       [0.4416954 , 0.45370519, 0.        , ..., 0.10459941, 0.        ,\n",
       "        0.        ],\n",
       "       [0.52189798, 0.47810202, 0.        , ..., 0.        , 0.        ,\n",
       "        0.        ],\n",
       "       [0.        , 1.        , 0.        , ..., 0.        , 0.        ,\n",
       "        0.        ]])"
      ]
     },
     "execution_count": 410,
     "metadata": {},
     "output_type": "execute_result"
    }
   ],
   "source": [
    "k_clf = KNeighborsClassifier(n_neighbors=8, weights=\"distance\")\n",
    "k_clf.fit(train_feature_matrix, train_labels)\n",
    "print(accuracy_score(test_labels, k_clf.predict(test_feature_matrix)))\n",
    "k_clf.predict_proba(test_feature_matrix)"
   ]
  },
  {
   "cell_type": "markdown",
   "metadata": {
    "colab_type": "text",
    "id": "p41xvYTU25qK"
   },
   "source": [
    "#### 2.4 Сравнение результатов логистической регрессии и kNN (10%).\n",
    "\n",
    "В реальной жизни новые данные становятся доступны с течением времени. Сравните качество Вашей лучшей модели логистической регресии и лучшего kNN  на отложенной выборке `delayed_data`. Какая из моделей показала лучший результат?"
   ]
  },
  {
   "cell_type": "code",
   "execution_count": 413,
   "metadata": {
    "colab": {
     "autoexec": {
      "startup": false,
      "wait_interval": 0
     }
    },
    "colab_type": "code",
    "id": "xJFKTJx425qL"
   },
   "outputs": [
    {
     "name": "stdout",
     "output_type": "stream",
     "text": [
      "0.7413706853426714\n"
     ]
    },
    {
     "name": "stderr",
     "output_type": "stream",
     "text": [
      "/usr/local/lib/python3.7/site-packages/sklearn/linear_model/logistic.py:432: FutureWarning: Default solver will be changed to 'lbfgs' in 0.22. Specify a solver to silence this warning.\n",
      "  FutureWarning)\n",
      "/usr/local/lib/python3.7/site-packages/sklearn/linear_model/logistic.py:459: FutureWarning: Default multi_class will be changed to 'auto' in 0.22. Specify the multi_class option to silence this warning.\n",
      "  \"this warning.\", FutureWarning)\n"
     ]
    },
    {
     "name": "stdout",
     "output_type": "stream",
     "text": [
      "0.7138569284642321\n"
     ]
    }
   ],
   "source": [
    "k_clf = KNeighborsClassifier(n_neighbors=8, weights=\"distance\")\n",
    "k_clf.fit(train_feature_matrix, train_labels)\n",
    "print(accuracy_score(private_labels, k_clf.predict(private_matrix)))\n",
    "\n",
    "best_lr_clf = LogisticRegression(C=0.12, penalty=\"l1\")\n",
    "best_lr_clf.fit(train_feature_matrix, train_labels)\n",
    "best_lr_clf.predict_proba(test_feature_matrix)\n",
    "print(accuracy_score(private_labels, best_lr_clf.predict(private_matrix)))\n",
    "\n",
    "\n"
   ]
  },
  {
   "cell_type": "markdown",
   "metadata": {},
   "source": [
    "# Вывод\n",
    "У меня получилось что kNN дал на 3% лучше результат, было довольно интересно наблюдать как на результат влияют все теоритические вещи рассказанные на лекции. Сделал домашку на час всего за три дня по два часа, считаю это успех!"
   ]
  },
  {
   "cell_type": "code",
   "execution_count": null,
   "metadata": {},
   "outputs": [],
   "source": []
  }
 ],
 "metadata": {
  "colab": {
   "collapsed_sections": [
    "dKCiU0wz25pj",
    "9MKHZ2JC25pv",
    "VYogShkD25qD",
    "p41xvYTU25qK"
   ],
   "default_view": {},
   "name": "HW1_Logistic_regression_and_SVM.ipynb",
   "provenance": [],
   "version": "0.3.2",
   "views": {}
  },
  "kernelspec": {
   "display_name": "Python 3",
   "language": "python",
   "name": "python3"
  },
  "language_info": {
   "codemirror_mode": {
    "name": "ipython",
    "version": 3
   },
   "file_extension": ".py",
   "mimetype": "text/x-python",
   "name": "python",
   "nbconvert_exporter": "python",
   "pygments_lexer": "ipython3",
   "version": "3.7.0"
  }
 },
 "nbformat": 4,
 "nbformat_minor": 1
}
